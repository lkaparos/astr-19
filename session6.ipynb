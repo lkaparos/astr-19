{
 "cells": [
  {
   "cell_type": "code",
   "execution_count": null,
   "id": "085cdaf4-4293-4d0e-930b-cab09dc5e3dd",
   "metadata": {},
   "outputs": [],
   "source": [
    "import numpy as np"
   ]
  },
  {
   "cell_type": "markdown",
   "id": "b207ae1c-afcd-4094-b8ae-33796facb96a",
   "metadata": {},
   "source": [
    "imports the numpy library "
   ]
  },
  {
   "cell_type": "code",
   "execution_count": null,
   "id": "cb3f7470-5733-4a2e-9d09-0f3efe7bea38",
   "metadata": {},
   "outputs": [],
   "source": [
    "def main():\n",
    "    x=np.linspace(0.0, 2 * np.pi, num=1000)\n",
    "    sinx = np.sin(x)\n",
    "    cosx = np.cos(x)\n",
    "    \n",
    "    print(\"x    | sin(x)    | cos(x)\")\n",
    "    print(\"-----|-----------|-----------\")\n",
    "    \n",
    "    for i in range(1000):\n",
    "        print(f\"{x[i]:.3f} | {sinx[i]:.3f} | {cosx[i]:.3f}\")\n",
    "main()"
   ]
  },
  {
   "cell_type": "markdown",
   "id": "abe7f819-1acb-4737-bdb9-3c98d44882cb",
   "metadata": {},
   "source": [
    "tabulates between cos(x) and sin(x) with x tabulating between 0 and 2pi"
   ]
  },
  {
   "cell_type": "code",
   "execution_count": null,
   "id": "bae6c23c-5441-42e4-8f75-1fd92ee0ae2c",
   "metadata": {},
   "outputs": [],
   "source": [
    "def main():\n",
    "    x=np.linspace(0.0, 2 * np.pi, num=1000)\n",
    "    sinx = np.sin(x)\n",
    "    cosx = np.cos(x)\n",
    "    \n",
    "    print(\"x    | sin(x)    | cos(x)\")\n",
    "    print(\"-----|-----------|-----------\")\n",
    "    \n",
    "    for i in range(10):\n",
    "        print(f\"{x[i]:.3f} | {sinx[i]:.3f} | {cosx[i]:.3f}\")\n",
    "main()"
   ]
  },
  {
   "cell_type": "markdown",
   "id": "76d6c8d5-26b8-43e1-963c-fb1e5327224e",
   "metadata": {},
   "source": [
    "prints the first 10 values of x, sin (x), and cos(x)"
   ]
  },
  {
   "cell_type": "code",
   "execution_count": null,
   "id": "30b8902d-6b8e-4811-8cd1-2e92d2b49bfb",
   "metadata": {},
   "outputs": [],
   "source": [
    "if __name__==\"__main__\":\n",
    "    main()"
   ]
  },
  {
   "cell_type": "markdown",
   "id": "b065f5f6-939b-4918-9ffd-3452fc16182c",
   "metadata": {},
   "source": [
    "calls the main function"
   ]
  }
 ],
 "metadata": {
  "kernelspec": {
   "display_name": "Python 3 (ipykernel)",
   "language": "python",
   "name": "python3"
  },
  "language_info": {
   "codemirror_mode": {
    "name": "ipython",
    "version": 3
   },
   "file_extension": ".py",
   "mimetype": "text/x-python",
   "name": "python",
   "nbconvert_exporter": "python",
   "pygments_lexer": "ipython3",
   "version": "3.11.5"
  }
 },
 "nbformat": 4,
 "nbformat_minor": 5
}
